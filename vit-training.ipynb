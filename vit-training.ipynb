{
 "cells": [
  {
   "cell_type": "code",
   "execution_count": 1,
   "id": "4332c84e",
   "metadata": {
    "execution": {
     "iopub.execute_input": "2024-11-30T05:16:16.852877Z",
     "iopub.status.busy": "2024-11-30T05:16:16.852517Z",
     "iopub.status.idle": "2024-11-30T05:16:26.230640Z",
     "shell.execute_reply": "2024-11-30T05:16:26.229794Z"
    },
    "papermill": {
     "duration": 9.386392,
     "end_time": "2024-11-30T05:16:26.232731",
     "exception": false,
     "start_time": "2024-11-30T05:16:16.846339",
     "status": "completed"
    },
    "tags": []
   },
   "outputs": [
    {
     "name": "stdout",
     "output_type": "stream",
     "text": [
      "Collecting gdown\r\n",
      "  Downloading gdown-5.2.0-py3-none-any.whl.metadata (5.8 kB)\r\n",
      "Requirement already satisfied: beautifulsoup4 in /opt/conda/lib/python3.10/site-packages (from gdown) (4.12.3)\r\n",
      "Requirement already satisfied: filelock in /opt/conda/lib/python3.10/site-packages (from gdown) (3.15.1)\r\n",
      "Requirement already satisfied: requests[socks] in /opt/conda/lib/python3.10/site-packages (from gdown) (2.32.3)\r\n",
      "Requirement already satisfied: tqdm in /opt/conda/lib/python3.10/site-packages (from gdown) (4.66.4)\r\n",
      "Requirement already satisfied: soupsieve>1.2 in /opt/conda/lib/python3.10/site-packages (from beautifulsoup4->gdown) (2.5)\r\n",
      "Requirement already satisfied: charset-normalizer<4,>=2 in /opt/conda/lib/python3.10/site-packages (from requests[socks]->gdown) (3.3.2)\r\n",
      "Requirement already satisfied: idna<4,>=2.5 in /opt/conda/lib/python3.10/site-packages (from requests[socks]->gdown) (3.7)\r\n",
      "Requirement already satisfied: urllib3<3,>=1.21.1 in /opt/conda/lib/python3.10/site-packages (from requests[socks]->gdown) (1.26.18)\r\n",
      "Requirement already satisfied: certifi>=2017.4.17 in /opt/conda/lib/python3.10/site-packages (from requests[socks]->gdown) (2024.8.30)\r\n",
      "Requirement already satisfied: PySocks!=1.5.7,>=1.5.6 in /opt/conda/lib/python3.10/site-packages (from requests[socks]->gdown) (1.7.1)\r\n",
      "Downloading gdown-5.2.0-py3-none-any.whl (18 kB)\r\n",
      "Installing collected packages: gdown\r\n",
      "Successfully installed gdown-5.2.0\r\n"
     ]
    }
   ],
   "source": [
    "!pip install gdown"
   ]
  },
  {
   "cell_type": "code",
   "execution_count": 2,
   "id": "be23f9a1",
   "metadata": {
    "execution": {
     "iopub.execute_input": "2024-11-30T05:16:26.242523Z",
     "iopub.status.busy": "2024-11-30T05:16:26.242249Z",
     "iopub.status.idle": "2024-11-30T05:16:40.175980Z",
     "shell.execute_reply": "2024-11-30T05:16:40.175137Z"
    },
    "papermill": {
     "duration": 13.940819,
     "end_time": "2024-11-30T05:16:40.177935",
     "exception": false,
     "start_time": "2024-11-30T05:16:26.237116",
     "status": "completed"
    },
    "tags": []
   },
   "outputs": [
    {
     "name": "stdout",
     "output_type": "stream",
     "text": [
      "Downloading...\r\n",
      "From (original): https://drive.google.com/uc?id=1ASrwv4-t9UUtBfiGL8H1MXaBhhELXsBH\r\n",
      "From (redirected): https://drive.google.com/uc?id=1ASrwv4-t9UUtBfiGL8H1MXaBhhELXsBH&confirm=t&uuid=51724e67-da28-4886-97e1-3fa0f9452bff\r\n",
      "To: /kaggle/working/ai_real_2.zip\r\n",
      "100%|███████████████████████████████████████| 2.04G/2.04G [00:09<00:00, 222MB/s]\r\n"
     ]
    }
   ],
   "source": [
    "!gdown 1ASrwv4-t9UUtBfiGL8H1MXaBhhELXsBH"
   ]
  },
  {
   "cell_type": "code",
   "execution_count": 3,
   "id": "af261519",
   "metadata": {
    "execution": {
     "iopub.execute_input": "2024-11-30T05:16:40.197160Z",
     "iopub.status.busy": "2024-11-30T05:16:40.196417Z",
     "iopub.status.idle": "2024-11-30T05:16:58.893873Z",
     "shell.execute_reply": "2024-11-30T05:16:58.892733Z"
    },
    "papermill": {
     "duration": 18.708704,
     "end_time": "2024-11-30T05:16:58.896116",
     "exception": false,
     "start_time": "2024-11-30T05:16:40.187412",
     "status": "completed"
    },
    "tags": []
   },
   "outputs": [],
   "source": [
    "!unzip -qq /kaggle/working/ai_real_2.zip"
   ]
  },
  {
   "cell_type": "code",
   "execution_count": 4,
   "id": "a89ddcdc",
   "metadata": {
    "execution": {
     "iopub.execute_input": "2024-11-30T05:16:58.915003Z",
     "iopub.status.busy": "2024-11-30T05:16:58.914699Z",
     "iopub.status.idle": "2024-11-30T05:17:00.390949Z",
     "shell.execute_reply": "2024-11-30T05:17:00.389925Z"
    },
    "papermill": {
     "duration": 1.487397,
     "end_time": "2024-11-30T05:17:00.392963",
     "exception": false,
     "start_time": "2024-11-30T05:16:58.905566",
     "status": "completed"
    },
    "tags": []
   },
   "outputs": [],
   "source": [
    "!rm /kaggle/working/ai_real_2.zip"
   ]
  },
  {
   "cell_type": "code",
   "execution_count": 5,
   "id": "6f608648",
   "metadata": {
    "execution": {
     "iopub.execute_input": "2024-11-30T05:17:00.410939Z",
     "iopub.status.busy": "2024-11-30T05:17:00.410632Z",
     "iopub.status.idle": "2024-11-30T05:17:00.414599Z",
     "shell.execute_reply": "2024-11-30T05:17:00.413958Z"
    },
    "papermill": {
     "duration": 0.014682,
     "end_time": "2024-11-30T05:17:00.416406",
     "exception": false,
     "start_time": "2024-11-30T05:17:00.401724",
     "status": "completed"
    },
    "tags": []
   },
   "outputs": [],
   "source": [
    "train = \"/kaggle/working/train\"\n",
    "validation = \"/kaggle/working/validation\"\n",
    "test = \"/kaggle/working/test\""
   ]
  },
  {
   "cell_type": "code",
   "execution_count": 6,
   "id": "fd25cd15",
   "metadata": {
    "execution": {
     "iopub.execute_input": "2024-11-30T05:17:00.433515Z",
     "iopub.status.busy": "2024-11-30T05:17:00.433255Z",
     "iopub.status.idle": "2024-11-30T05:17:01.565471Z",
     "shell.execute_reply": "2024-11-30T05:17:01.564648Z"
    },
    "papermill": {
     "duration": 1.142701,
     "end_time": "2024-11-30T05:17:01.567271",
     "exception": false,
     "start_time": "2024-11-30T05:17:00.424570",
     "status": "completed"
    },
    "tags": []
   },
   "outputs": [
    {
     "data": {
      "text/html": [
       "<div>\n",
       "<style scoped>\n",
       "    .dataframe tbody tr th:only-of-type {\n",
       "        vertical-align: middle;\n",
       "    }\n",
       "\n",
       "    .dataframe tbody tr th {\n",
       "        vertical-align: top;\n",
       "    }\n",
       "\n",
       "    .dataframe thead th {\n",
       "        text-align: right;\n",
       "    }\n",
       "</style>\n",
       "<table border=\"1\" class=\"dataframe\">\n",
       "  <thead>\n",
       "    <tr style=\"text-align: right;\">\n",
       "      <th></th>\n",
       "      <th>Train</th>\n",
       "      <th>Validation</th>\n",
       "      <th>Test</th>\n",
       "    </tr>\n",
       "  </thead>\n",
       "  <tbody>\n",
       "    <tr>\n",
       "      <th>Fake</th>\n",
       "      <td>18240</td>\n",
       "      <td>6080</td>\n",
       "      <td>6081</td>\n",
       "    </tr>\n",
       "    <tr>\n",
       "      <th>Real</th>\n",
       "      <td>18240</td>\n",
       "      <td>6080</td>\n",
       "      <td>6081</td>\n",
       "    </tr>\n",
       "  </tbody>\n",
       "</table>\n",
       "</div>"
      ],
      "text/plain": [
       "      Train  Validation  Test\n",
       "Fake  18240        6080  6081\n",
       "Real  18240        6080  6081"
      ]
     },
     "execution_count": 6,
     "metadata": {},
     "output_type": "execute_result"
    }
   ],
   "source": [
    "import pandas as pd\n",
    "import os\n",
    "\n",
    "fake_train = os.path.join(train, 'fake')\n",
    "real_train = os.path.join(train, 'real')\n",
    "\n",
    "fake_validation = os.path.join(validation, 'fake')\n",
    "real_validation = os.path.join(validation, 'real')\n",
    "\n",
    "fake_test = os.path.join(test, 'fake')\n",
    "real_test = os.path.join(test, 'real')\n",
    "\n",
    "df = pd.DataFrame(columns=['Train', 'Validation', 'Test'])\n",
    "df['Train'] = [len(os.listdir(fake_train)), len(os.listdir(real_train))]\n",
    "df['Validation'] = [len(os.listdir(fake_validation)), len(os.listdir(real_validation))]\n",
    "df['Test'] = [len(os.listdir(fake_test)), len(os.listdir(real_test))]\n",
    "\n",
    "df.index = ['Fake', 'Real']\n",
    "df"
   ]
  },
  {
   "cell_type": "code",
   "execution_count": 7,
   "id": "8c0b6fdc",
   "metadata": {
    "execution": {
     "iopub.execute_input": "2024-11-30T05:17:01.586750Z",
     "iopub.status.busy": "2024-11-30T05:17:01.584515Z",
     "iopub.status.idle": "2024-11-30T05:17:14.349922Z",
     "shell.execute_reply": "2024-11-30T05:17:14.349200Z"
    },
    "papermill": {
     "duration": 12.77657,
     "end_time": "2024-11-30T05:17:14.352519",
     "exception": false,
     "start_time": "2024-11-30T05:17:01.575949",
     "status": "completed"
    },
    "tags": []
   },
   "outputs": [
    {
     "name": "stdout",
     "output_type": "stream",
     "text": [
      "Found 36480 images belonging to 2 classes.\n",
      "Found 12160 images belonging to 2 classes.\n"
     ]
    }
   ],
   "source": [
    "from tensorflow.keras.preprocessing.image import ImageDataGenerator\n",
    "\n",
    "IMG_SIZE = 224\n",
    "\n",
    "BATCH_SIZE = 16\n",
    "\n",
    "train_datagen = ImageDataGenerator(rescale=1.0/255)\n",
    "\n",
    "validation_datagen = ImageDataGenerator(rescale=1.0/255)\n",
    "\n",
    "train_generator = train_datagen.flow_from_directory(train,\n",
    "                                                    batch_size=BATCH_SIZE,\n",
    "                                                    class_mode='binary',\n",
    "                                                    classes=['fake', 'real'],\n",
    "                                                    target_size=(IMG_SIZE, IMG_SIZE),\n",
    "                                                    shuffle=True,\n",
    "                                                    seed=123)\n",
    "\n",
    "validation_generator = validation_datagen.flow_from_directory(validation,\n",
    "                                                              batch_size=BATCH_SIZE,\n",
    "                                                              class_mode='binary',\n",
    "                                                              classes=['fake', 'real'],\n",
    "                                                              target_size=(IMG_SIZE, IMG_SIZE),\n",
    "                                                              shuffle=False)\n",
    "\n"
   ]
  },
  {
   "cell_type": "code",
   "execution_count": 8,
   "id": "4ef176b5",
   "metadata": {
    "execution": {
     "iopub.execute_input": "2024-11-30T05:17:14.372187Z",
     "iopub.status.busy": "2024-11-30T05:17:14.371181Z",
     "iopub.status.idle": "2024-11-30T05:17:22.279500Z",
     "shell.execute_reply": "2024-11-30T05:17:22.278770Z"
    },
    "papermill": {
     "duration": 7.919312,
     "end_time": "2024-11-30T05:17:22.281638",
     "exception": false,
     "start_time": "2024-11-30T05:17:14.362326",
     "status": "completed"
    },
    "tags": []
   },
   "outputs": [],
   "source": [
    "import tensorflow_hub as hub\n",
    "import tensorflow as tf\n",
    "import tf_keras\n",
    "\n",
    "model = tf_keras.Sequential([\n",
    "    hub.KerasLayer(\n",
    "        \"https://www.kaggle.com/models/spsayakpaul/vision-transformer/TensorFlow2/vit-b16-classification/1\",\n",
    "        trainable=False,\n",
    "        name=\"vit_b16_layer\"\n",
    "    ),\n",
    "    tf_keras.layers.Dense(1, activation='sigmoid', name=\"output_layer\")\n",
    "])\n",
    "model.build(input_shape=(None, IMG_SIZE, IMG_SIZE, 3))"
   ]
  },
  {
   "cell_type": "code",
   "execution_count": 9,
   "id": "1f140c8c",
   "metadata": {
    "execution": {
     "iopub.execute_input": "2024-11-30T05:17:22.299038Z",
     "iopub.status.busy": "2024-11-30T05:17:22.298676Z",
     "iopub.status.idle": "2024-11-30T05:17:22.317558Z",
     "shell.execute_reply": "2024-11-30T05:17:22.316656Z"
    },
    "papermill": {
     "duration": 0.029229,
     "end_time": "2024-11-30T05:17:22.319272",
     "exception": false,
     "start_time": "2024-11-30T05:17:22.290043",
     "status": "completed"
    },
    "tags": []
   },
   "outputs": [
    {
     "name": "stdout",
     "output_type": "stream",
     "text": [
      "Model: \"sequential\"\n",
      "_________________________________________________________________\n",
      " Layer (type)                Output Shape              Param #   \n",
      "=================================================================\n",
      " vit_b16_layer (KerasLayer)  (None, 1000)              86567656  \n",
      "                                                                 \n",
      " output_layer (Dense)        (None, 1)                 1001      \n",
      "                                                                 \n",
      "=================================================================\n",
      "Total params: 86568657 (330.23 MB)\n",
      "Trainable params: 1001 (3.91 KB)\n",
      "Non-trainable params: 86567656 (330.23 MB)\n",
      "_________________________________________________________________\n"
     ]
    }
   ],
   "source": [
    "model.summary()"
   ]
  },
  {
   "cell_type": "code",
   "execution_count": 10,
   "id": "5e27a249",
   "metadata": {
    "execution": {
     "iopub.execute_input": "2024-11-30T05:17:22.336828Z",
     "iopub.status.busy": "2024-11-30T05:17:22.336527Z",
     "iopub.status.idle": "2024-11-30T05:17:22.518132Z",
     "shell.execute_reply": "2024-11-30T05:17:22.517317Z"
    },
    "papermill": {
     "duration": 0.192296,
     "end_time": "2024-11-30T05:17:22.519882",
     "exception": false,
     "start_time": "2024-11-30T05:17:22.327586",
     "status": "completed"
    },
    "tags": []
   },
   "outputs": [
    {
     "data": {
      "image/png": "[encoded data removed]",
      "text/plain": [
       "<IPython.core.display.Image object>"
      ]
     },
     "execution_count": 10,
     "metadata": {},
     "output_type": "execute_result"
    }
   ],
   "source": [
    "tf_keras.utils.plot_model(\n",
    "    model,\n",
    "    rankdir='LR',\n",
    "    show_layer_activations=True,\n",
    "    show_layer_names=True\n",
    ")"
   ]
  },
  {
   "cell_type": "code",
   "execution_count": 11,
   "id": "e1179e5f",
   "metadata": {
    "execution": {
     "iopub.execute_input": "2024-11-30T05:17:22.537973Z",
     "iopub.status.busy": "2024-11-30T05:17:22.537689Z",
     "iopub.status.idle": "2024-11-30T05:17:22.561804Z",
     "shell.execute_reply": "2024-11-30T05:17:22.561207Z"
    },
    "papermill": {
     "duration": 0.034972,
     "end_time": "2024-11-30T05:17:22.563527",
     "exception": false,
     "start_time": "2024-11-30T05:17:22.528555",
     "status": "completed"
    },
    "tags": []
   },
   "outputs": [],
   "source": [
    "model.compile(optimizer='adam', loss='binary_crossentropy', metrics=['acc', tf_keras.metrics.Precision(), tf_keras.metrics.Recall()])"
   ]
  },
  {
   "cell_type": "code",
   "execution_count": 12,
   "id": "59f1240f",
   "metadata": {
    "execution": {
     "iopub.execute_input": "2024-11-30T05:17:22.582272Z",
     "iopub.status.busy": "2024-11-30T05:17:22.582016Z",
     "iopub.status.idle": "2024-11-30T07:01:34.789281Z",
     "shell.execute_reply": "2024-11-30T07:01:34.788371Z"
    },
    "papermill": {
     "duration": 6253.358821,
     "end_time": "2024-11-30T07:01:35.931410",
     "exception": false,
     "start_time": "2024-11-30T05:17:22.572589",
     "status": "completed"
    },
    "tags": []
   },
   "outputs": [
    {
     "name": "stdout",
     "output_type": "stream",
     "text": [
      "Epoch 1/10\n"
     ]
    },
    {
     "name": "stderr",
     "output_type": "stream",
     "text": [
      "WARNING: All log messages before absl::InitializeLog() is called are written to STDERR\n",
      "I0000 00:00:1732943859.826501      92 service.cc:145] XLA service 0x7e1548007250 initialized for platform CUDA (this does not guarantee that XLA will be used). Devices:\n",
      "I0000 00:00:1732943859.826547      92 service.cc:153]   StreamExecutor device (0): Tesla T4, Compute Capability 7.5\n",
      "I0000 00:00:1732943859.826553      92 service.cc:153]   StreamExecutor device (1): Tesla T4, Compute Capability 7.5\n",
      "WARNING: All log messages before absl::InitializeLog() is called are written to STDERR\n",
      "I0000 00:00:1732943867.796234     134 asm_compiler.cc:369] ptxas warning : Registers are spilled to local memory in function 'triton_gemm_dot_2', 1300 bytes spill stores, 1284 bytes spill loads\n",
      "\n",
      "I0000 00:00:1732943870.738867     131 asm_compiler.cc:369] ptxas warning : Registers are spilled to local memory in function 'triton_gemm_dot_5', 1300 bytes spill stores, 1284 bytes spill loads\n",
      "\n",
      "I0000 00:00:1732943872.990900     132 asm_compiler.cc:369] ptxas warning : Registers are spilled to local memory in function 'triton_gemm_dot_6', 1300 bytes spill stores, 1284 bytes spill loads\n",
      "\n",
      "I0000 00:00:1732943876.153083      92 device_compiler.h:188] Compiled cluster using XLA!  This line is logged at most once for the lifetime of the process.\n"
     ]
    },
    {
     "name": "stdout",
     "output_type": "stream",
     "text": [
      "2280/2280 [==============================] - 640s 266ms/step - loss: 0.1152 - acc: 0.9575 - precision: 0.9532 - recall: 0.9621 - val_loss: 0.0865 - val_acc: 0.9711 - val_precision: 0.9677 - val_recall: 0.9747\n",
      "Epoch 2/10\n",
      "2280/2280 [==============================] - 622s 273ms/step - loss: 0.0760 - acc: 0.9734 - precision: 0.9702 - recall: 0.9768 - val_loss: 0.0737 - val_acc: 0.9740 - val_precision: 0.9723 - val_recall: 0.9758\n",
      "Epoch 3/10\n",
      "2280/2280 [==============================] - 623s 273ms/step - loss: 0.0691 - acc: 0.9756 - precision: 0.9735 - recall: 0.9779 - val_loss: 0.0674 - val_acc: 0.9757 - val_precision: 0.9712 - val_recall: 0.9804\n",
      "Epoch 4/10\n",
      "2280/2280 [==============================] - 625s 274ms/step - loss: 0.0634 - acc: 0.9779 - precision: 0.9760 - recall: 0.9799 - val_loss: 0.0640 - val_acc: 0.9766 - val_precision: 0.9698 - val_recall: 0.9837\n",
      "Epoch 5/10\n",
      "2280/2280 [==============================] - 624s 274ms/step - loss: 0.0601 - acc: 0.9791 - precision: 0.9774 - recall: 0.9809 - val_loss: 0.0795 - val_acc: 0.9724 - val_precision: 0.9837 - val_recall: 0.9607\n",
      "Epoch 6/10\n",
      "2280/2280 [==============================] - 623s 273ms/step - loss: 0.0575 - acc: 0.9796 - precision: 0.9781 - recall: 0.9811 - val_loss: 0.0651 - val_acc: 0.9771 - val_precision: 0.9760 - val_recall: 0.9781\n",
      "Epoch 7/10\n",
      "2280/2280 [==============================] - 625s 274ms/step - loss: 0.0564 - acc: 0.9805 - precision: 0.9793 - recall: 0.9816 - val_loss: 0.0587 - val_acc: 0.9794 - val_precision: 0.9788 - val_recall: 0.9799\n",
      "Epoch 8/10\n",
      "2280/2280 [==============================] - 624s 274ms/step - loss: 0.0543 - acc: 0.9806 - precision: 0.9796 - recall: 0.9816 - val_loss: 0.0568 - val_acc: 0.9810 - val_precision: 0.9820 - val_recall: 0.9799\n",
      "Epoch 9/10\n",
      "2280/2280 [==============================] - 623s 273ms/step - loss: 0.0524 - acc: 0.9812 - precision: 0.9798 - recall: 0.9827 - val_loss: 0.0597 - val_acc: 0.9782 - val_precision: 0.9695 - val_recall: 0.9875\n",
      "Epoch 10/10\n",
      "2280/2280 [==============================] - 624s 274ms/step - loss: 0.0520 - acc: 0.9817 - precision: 0.9803 - recall: 0.9832 - val_loss: 0.0619 - val_acc: 0.9797 - val_precision: 0.9705 - val_recall: 0.9895\n"
     ]
    }
   ],
   "source": [
    "history = model.fit(train_generator,\n",
    "                    epochs=10,\n",
    "                    verbose=1,\n",
    "                    validation_data=validation_generator,\n",
    "                    steps_per_epoch=len(train_generator),\n",
    "                    validation_steps=len(validation_generator)\n",
    "                    # callbacks=[early_stopping]\n",
    "                    )"
   ]
  },
  {
   "cell_type": "code",
   "execution_count": 14,
   "id": "477f3294",
   "metadata": {
    "execution": {
     "iopub.execute_input": "2024-11-30T07:04:17.636443Z",
     "iopub.status.busy": "2024-11-30T07:04:17.636106Z",
     "iopub.status.idle": "2024-11-30T07:04:18.058725Z",
     "shell.execute_reply": "2024-11-30T07:04:18.057877Z"
    },
    "papermill": {
     "duration": 1.582817,
     "end_time": "2024-11-30T07:04:18.060351",
     "exception": false,
     "start_time": "2024-11-30T07:04:16.477534",
     "status": "completed"
    },
    "tags": []
   },
   "outputs": [
    {
     "data": {
      "image/png": "[encoded data removed]",
      "text/plain": [
       "<Figure size 1500x500 with 2 Axes>"
      ]
     },
     "metadata": {},
     "output_type": "display_data"
    }
   ],
   "source": [
    "import matplotlib.pyplot as plt\n",
    "\n",
    "acc = history.history['acc']\n",
    "val_acc = history.history['val_acc']\n",
    "loss = history.history['loss']\n",
    "val_loss = history.history['val_loss']\n",
    "\n",
    "epochs = range(1, len(acc) + 1)\n",
    "fig, ax = plt.subplots(1, 2, figsize=(15, 5))\n",
    "\n",
    "ax[0].plot(epochs, acc, label='Training accuracy')\n",
    "ax[0].plot(epochs, val_acc, label='Validation accuracy')\n",
    "ax[0].set_title('Training and Validation Accuracy')\n",
    "ax[0].set_xlabel('Epochs')\n",
    "ax[0].set_ylabel('Accuracy')\n",
    "ax[0].legend()\n",
    "ax[0].grid(True)\n",
    "\n",
    "ax[1].plot(epochs, loss, label='Training loss')\n",
    "ax[1].plot(epochs, val_loss, label='Validation loss')\n",
    "ax[1].set_title('Training and Validation Loss')\n",
    "ax[1].set_xlabel('Epochs')\n",
    "ax[1].set_ylabel('Loss')\n",
    "ax[1].legend()\n",
    "ax[1].grid(True)\n",
    "\n",
    "plt.show()"
   ]
  },
  {
   "cell_type": "code",
   "execution_count": 15,
   "id": "d2629236",
   "metadata": {
    "execution": {
     "iopub.execute_input": "2024-11-30T07:04:20.426326Z",
     "iopub.status.busy": "2024-11-30T07:04:20.425986Z",
     "iopub.status.idle": "2024-11-30T07:06:58.697244Z",
     "shell.execute_reply": "2024-11-30T07:06:58.696349Z"
    },
    "papermill": {
     "duration": 159.429298,
     "end_time": "2024-11-30T07:06:58.699097",
     "exception": false,
     "start_time": "2024-11-30T07:04:19.269799",
     "status": "completed"
    },
    "tags": []
   },
   "outputs": [
    {
     "name": "stdout",
     "output_type": "stream",
     "text": [
      "760/760 [==============================] - 156s 205ms/step\n"
     ]
    },
    {
     "data": {
      "image/png": "[encoded data removed]",
      "text/plain": [
       "<Figure size 800x600 with 2 Axes>"
      ]
     },
     "metadata": {},
     "output_type": "display_data"
    }
   ],
   "source": [
    "import seaborn as sns\n",
    "from sklearn.metrics import confusion_matrix\n",
    "import numpy as np\n",
    "\n",
    "predictions = model.predict(validation_generator, steps=len(validation_generator), verbose=1)\n",
    "predicted_classes = np.round(predictions)\n",
    "true_classes = validation_generator.classes\n",
    "\n",
    "cm = confusion_matrix(true_classes, predicted_classes)\n",
    "\n",
    "plt.figure(figsize=(8, 6))\n",
    "sns.heatmap(cm, annot=True, cmap=\"Blues\", fmt='d')\n",
    "plt.xlabel('Predicted')\n",
    "plt.ylabel('True')\n",
    "plt.title('Confusion Matrix')\n",
    "plt.show()"
   ]
  },
  {
   "cell_type": "code",
   "execution_count": 16,
   "id": "88d1370f",
   "metadata": {
    "execution": {
     "iopub.execute_input": "2024-11-30T07:07:01.002064Z",
     "iopub.status.busy": "2024-11-30T07:07:01.001393Z",
     "iopub.status.idle": "2024-11-30T07:07:01.018259Z",
     "shell.execute_reply": "2024-11-30T07:07:01.017312Z"
    },
    "papermill": {
     "duration": 1.18767,
     "end_time": "2024-11-30T07:07:01.020780",
     "exception": false,
     "start_time": "2024-11-30T07:06:59.833110",
     "status": "completed"
    },
    "tags": []
   },
   "outputs": [
    {
     "name": "stdout",
     "output_type": "stream",
     "text": [
      "              precision    recall  f1-score   support\n",
      "\n",
      "           0       0.99      0.97      0.98      6080\n",
      "           1       0.97      0.99      0.98      6080\n",
      "\n",
      "    accuracy                           0.98     12160\n",
      "   macro avg       0.98      0.98      0.98     12160\n",
      "weighted avg       0.98      0.98      0.98     12160\n",
      "\n"
     ]
    }
   ],
   "source": [
    "from sklearn.metrics import classification_report\n",
    "\n",
    "print(classification_report(true_classes, predicted_classes))"
   ]
  },
  {
   "cell_type": "code",
   "execution_count": 17,
   "id": "8aacd215",
   "metadata": {
    "execution": {
     "iopub.execute_input": "2024-11-30T07:07:03.432904Z",
     "iopub.status.busy": "2024-11-30T07:07:03.432093Z",
     "iopub.status.idle": "2024-11-30T07:07:03.590959Z",
     "shell.execute_reply": "2024-11-30T07:07:03.590240Z"
    },
    "papermill": {
     "duration": 1.302544,
     "end_time": "2024-11-30T07:07:03.592703",
     "exception": false,
     "start_time": "2024-11-30T07:07:02.290159",
     "status": "completed"
    },
    "tags": []
   },
   "outputs": [
    {
     "name": "stdout",
     "output_type": "stream",
     "text": [
      "Found 12162 images belonging to 2 classes.\n"
     ]
    }
   ],
   "source": [
    "test_datagen = ImageDataGenerator(rescale=1.0/255)\n",
    "test_generator = test_datagen.flow_from_directory(test,\n",
    "                                                  batch_size=BATCH_SIZE,\n",
    "                                                  class_mode='binary',\n",
    "                                                  classes=['fake', 'real'],\n",
    "                                                  target_size=(IMG_SIZE, IMG_SIZE),\n",
    "                                                  shuffle=False)"
   ]
  },
  {
   "cell_type": "code",
   "execution_count": 18,
   "id": "caf576c8",
   "metadata": {
    "execution": {
     "iopub.execute_input": "2024-11-30T07:07:05.980985Z",
     "iopub.status.busy": "2024-11-30T07:07:05.980611Z",
     "iopub.status.idle": "2024-11-30T07:09:56.790615Z",
     "shell.execute_reply": "2024-11-30T07:09:56.789796Z"
    },
    "papermill": {
     "duration": 172.033652,
     "end_time": "2024-11-30T07:09:56.792644",
     "exception": false,
     "start_time": "2024-11-30T07:07:04.758992",
     "status": "completed"
    },
    "tags": []
   },
   "outputs": [
    {
     "name": "stdout",
     "output_type": "stream",
     "text": [
      "760/761 [============================>.] - ETA: 0s"
     ]
    },
    {
     "name": "stderr",
     "output_type": "stream",
     "text": [
      "I0000 00:00:1732950590.127848     349 asm_compiler.cc:369] ptxas warning : Registers are spilled to local memory in function 'triton_gemm_dot_6', 1300 bytes spill stores, 1284 bytes spill loads\n",
      "\n",
      "I0000 00:00:1732950590.229032     348 asm_compiler.cc:369] ptxas warning : Registers are spilled to local memory in function 'triton_gemm_dot_109', 1296 bytes spill stores, 1280 bytes spill loads\n",
      "\n",
      "I0000 00:00:1732950595.186028     350 asm_compiler.cc:369] ptxas warning : Registers are spilled to local memory in function 'triton_gemm_dot_5', 1300 bytes spill stores, 1284 bytes spill loads\n",
      "\n"
     ]
    },
    {
     "name": "stdout",
     "output_type": "stream",
     "text": [
      "761/761 [==============================] - 170s 224ms/step\n"
     ]
    }
   ],
   "source": [
    "test_predictions = model.predict(test_generator, steps=len(test_generator), verbose=1)\n",
    "test_predicted_classes = np.round(test_predictions)\n",
    "test_true_classes = test_generator.classes\n",
    "test_cm = confusion_matrix(test_true_classes, test_predicted_classes)"
   ]
  },
  {
   "cell_type": "code",
   "execution_count": 19,
   "id": "b74267b5",
   "metadata": {
    "execution": {
     "iopub.execute_input": "2024-11-30T07:09:59.231401Z",
     "iopub.status.busy": "2024-11-30T07:09:59.231048Z",
     "iopub.status.idle": "2024-11-30T07:09:59.471819Z",
     "shell.execute_reply": "2024-11-30T07:09:59.471049Z"
    },
    "papermill": {
     "duration": 1.508075,
     "end_time": "2024-11-30T07:09:59.473581",
     "exception": false,
     "start_time": "2024-11-30T07:09:57.965506",
     "status": "completed"
    },
    "tags": []
   },
   "outputs": [
    {
     "data": {
      "image/png": "[encoded data removed]",
      "text/plain": [
       "<Figure size 800x600 with 2 Axes>"
      ]
     },
     "metadata": {},
     "output_type": "display_data"
    }
   ],
   "source": [
    "plt.figure(figsize=(8, 6))\n",
    "sns.heatmap(test_cm, annot=True, cmap=\"Blues\", fmt='d')\n",
    "plt.xlabel('Predicted')\n",
    "plt.ylabel('True')\n",
    "plt.title('Confusion Matrix')\n",
    "plt.show()"
   ]
  },
  {
   "cell_type": "code",
   "execution_count": 20,
   "id": "a3399538",
   "metadata": {
    "execution": {
     "iopub.execute_input": "2024-11-30T07:10:01.844887Z",
     "iopub.status.busy": "2024-11-30T07:10:01.844515Z",
     "iopub.status.idle": "2024-11-30T07:10:01.858832Z",
     "shell.execute_reply": "2024-11-30T07:10:01.857960Z"
    },
    "papermill": {
     "duration": 1.229949,
     "end_time": "2024-11-30T07:10:01.860350",
     "exception": false,
     "start_time": "2024-11-30T07:10:00.630401",
     "status": "completed"
    },
    "tags": []
   },
   "outputs": [
    {
     "name": "stdout",
     "output_type": "stream",
     "text": [
      "              precision    recall  f1-score   support\n",
      "\n",
      "           0       0.99      0.97      0.98      6081\n",
      "           1       0.97      0.99      0.98      6081\n",
      "\n",
      "    accuracy                           0.98     12162\n",
      "   macro avg       0.98      0.98      0.98     12162\n",
      "weighted avg       0.98      0.98      0.98     12162\n",
      "\n"
     ]
    }
   ],
   "source": [
    "print(classification_report(test_true_classes, test_predicted_classes))"
   ]
  },
  {
   "cell_type": "code",
   "execution_count": 21,
   "id": "643b642a",
   "metadata": {
    "execution": {
     "iopub.execute_input": "2024-11-30T07:10:04.333493Z",
     "iopub.status.busy": "2024-11-30T07:10:04.332435Z",
     "iopub.status.idle": "2024-11-30T07:10:05.517852Z",
     "shell.execute_reply": "2024-11-30T07:10:05.517117Z"
    },
    "papermill": {
     "duration": 2.353206,
     "end_time": "2024-11-30T07:10:05.519762",
     "exception": false,
     "start_time": "2024-11-30T07:10:03.166556",
     "status": "completed"
    },
    "tags": []
   },
   "outputs": [],
   "source": [
    "model.save('model.keras')"
   ]
  },
  {
   "cell_type": "code",
   "execution_count": null,
   "id": "e2195783",
   "metadata": {
    "papermill": {
     "duration": 1.26969,
     "end_time": "2024-11-30T07:10:07.998288",
     "exception": false,
     "start_time": "2024-11-30T07:10:06.728598",
     "status": "completed"
    },
    "tags": []
   },
   "outputs": [],
   "source": []
  }
 ],
 "metadata": {
  "kaggle": {
   "accelerator": "nvidiaTeslaT4",
   "dataSources": [
    {
     "modelId": 40,
     "modelInstanceId": 488,
     "sourceId": 621,
     "sourceType": "modelInstanceVersion"
    },
    {
     "modelId": 40,
     "modelInstanceId": 493,
     "sourceId": 626,
     "sourceType": "modelInstanceVersion"
    }
   ],
   "dockerImageVersionId": 30787,
   "isGpuEnabled": true,
   "isInternetEnabled": true,
   "language": "python",
   "sourceType": "notebook"
  },
  "kernelspec": {
   "display_name": "Python 3",
   "language": "python",
   "name": "python3"
  },
  "language_info": {
   "codemirror_mode": {
    "name": "ipython",
    "version": 3
   },
   "file_extension": ".py",
   "mimetype": "text/x-python",
   "name": "python",
   "nbconvert_exporter": "python",
   "pygments_lexer": "ipython3",
   "version": "3.10.14"
  },
  "papermill": {
   "default_parameters": {},
   "duration": 6837.922026,
   "end_time": "2024-11-30T07:10:12.335977",
   "environment_variables": {},
   "exception": null,
   "input_path": "__notebook__.ipynb",
   "output_path": "__notebook__.ipynb",
   "parameters": {},
   "start_time": "2024-11-30T05:16:14.413951",
   "version": "2.6.0"
  }
 },
 "nbformat": 4,
 "nbformat_minor": 5
}
